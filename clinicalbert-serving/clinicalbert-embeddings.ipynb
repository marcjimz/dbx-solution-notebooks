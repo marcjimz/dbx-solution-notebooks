{
 "cells": [
  {
   "cell_type": "code",
   "execution_count": null,
   "metadata": {
    "application/vnd.databricks.v1+cell": {
     "cellMetadata": {
      "byteLimit": 2048000,
      "rowLimit": 10000
     },
     "inputWidgets": {},
     "nuid": "21b8e588-7bf6-4aa4-afc5-4d09f0808d3d",
     "showTitle": true,
     "tableResultSettingsMap": {},
     "title": "Install transformers and mlflow"
    }
   },
   "outputs": [],
   "source": "%pip install transformers mlflow torch\ndbutils.library.restartPython()"
  },
  {
   "cell_type": "code",
   "execution_count": 0,
   "metadata": {
    "application/vnd.databricks.v1+cell": {
     "cellMetadata": {
      "byteLimit": 2048000,
      "rowLimit": 10000
     },
     "inputWidgets": {},
     "nuid": "881d4d13-28c5-4c81-8e07-0c5e3d02ce97",
     "showTitle": true,
     "tableResultSettingsMap": {},
     "title": "Imports"
    }
   },
   "outputs": [],
   "source": [
    "import pandas as pd\n",
    "import requests\n",
    "import json\n",
    "import mlflow\n",
    "from mlflow.models import infer_signature\n",
    "from mlflow.transformers import generate_signature_output\n",
    "from mlflow.tracking import MlflowClient"
   ]
  },
  {
   "cell_type": "code",
   "execution_count": 0,
   "metadata": {
    "application/vnd.databricks.v1+cell": {
     "cellMetadata": {
      "byteLimit": 2048000,
      "rowLimit": 10000
     },
     "inputWidgets": {},
     "nuid": "ad8f68c6-3f94-4215-b2d1-1dfdb5850022",
     "showTitle": true,
     "tableResultSettingsMap": {},
     "title": "Set model registry to Unity Catalog"
    }
   },
   "outputs": [],
   "source": [
    "mlflow.set_registry_uri(\"databricks-uc\")"
   ]
  },
  {
   "cell_type": "code",
   "source": "uc_catalog = \"dbdemos\"\nuc_schema = \"default\"\nuc_model_name = \"clinicalbert\"\nregistered_model_name = f\"{uc_catalog}.{uc_schema}.{uc_model_name}\"",
   "metadata": {},
   "execution_count": null,
   "outputs": []
  },
  {
   "cell_type": "code",
   "execution_count": 0,
   "metadata": {
    "application/vnd.databricks.v1+cell": {
     "cellMetadata": {
      "byteLimit": 2048000,
      "rowLimit": 10000
     },
     "inputWidgets": {},
     "nuid": "30794dac-1fef-40ac-92fb-d69a7e57fc8b",
     "showTitle": true,
     "tableResultSettingsMap": {},
     "title": "Set signature (inputs, outputs, params)"
    }
   },
   "outputs": [],
   "source": [
    "input_example = [\"The patient is suffering from a mild [MASK]\"]\n",
    "\n",
    "signature = mlflow.models.infer_signature(\n",
    "    input_example,\n",
    "    result\n",
    ")\n",
    "\n",
    "# Visualize the signature\n",
    "signature\n"
   ]
  },
  {
   "cell_type": "code",
   "source": "# Prepare example for MLflow signature\ninput_example = icd10_examples[:3]  # Use first 3 ICD10 codes as example\n\n# Generate sample output for signature\nsample_output = extract_embeddings(input_example)\n\n# Infer signature for MLflow model\nsignature = mlflow.models.infer_signature(\n    input_example,\n    sample_output\n)\n\n# Visualize the signature\nprint(\"MLflow Model Signature:\")\nprint(signature)\nprint(f\"\\nInput type: List of strings\")\nprint(f\"Output type: numpy.ndarray of shape [batch_size, 768]\")",
   "metadata": {},
   "execution_count": null,
   "outputs": []
  },
  {
   "cell_type": "code",
   "execution_count": 0,
   "metadata": {
    "application/vnd.databricks.v1+cell": {
     "cellMetadata": {
      "byteLimit": 2048000,
      "rowLimit": 10000
     },
     "inputWidgets": {},
     "nuid": "022866e9-b5c0-41e4-8fba-32de1eb86e58",
     "showTitle": true,
     "tableResultSettingsMap": {},
     "title": "Start mlflow experiment"
    }
   },
   "outputs": [],
   "source": [
    "with mlflow.start_run():\n",
    "    model_info = mlflow.transformers.log_model(\n",
    "        transformers_model = fillmaskpipeline,\n",
    "        artifact_path = \"fill_mask_generator\",\n",
    "        input_example = input_example,\n",
    "        signature = signature,\n",
    "        registered_model_name = registered_model_name,\n",
    "    )\n",
    "\n",
    "model_uri = model_info.model_uri\n",
    "registered_model_version = model_info.registered_model_version\n",
    "\n",
    "print(f\"Model URI is : {model_uri}\")\n",
    "print(f\"Registered Model version: {registered_model_version}\")\n"
   ]
  },
  {
   "cell_type": "code",
   "source": "# ICD10 code examples with descriptions\nicd10_examples = [\n    \"ICD10: E11.9 - Type 2 diabetes mellitus without complications\",\n    \"ICD10: I10 - Essential (primary) hypertension\",\n    \"ICD10: J44.1 - Chronic obstructive pulmonary disease with (acute) exacerbation\",\n    \"ICD10: I50.9 - Heart failure, unspecified\",\n    \"ICD10: N18.3 - Chronic kidney disease, stage 3 (moderate)\",\n    \"ICD10: J45.909 - Unspecified asthma, uncomplicated\",\n    \"ICD10: I21.9 - Acute myocardial infarction, unspecified\"\n]\n\n# Generate embeddings for ICD10 codes\nicd10_embeddings = extract_embeddings(icd10_examples)\n\nprint(f\"Generated embeddings for {len(icd10_examples)} ICD10 codes\")\nprint(f\"Embeddings shape: {icd10_embeddings.shape}\")\nprint(f\"Embedding dimensions: {icd10_embeddings.shape[1]}\")\nprint(\"\\n\" + \"=\"*80)\nprint(\"ICD10 Code Examples and Their Embeddings:\")\nprint(\"=\"*80)\n\nfor i, (text, embedding) in enumerate(zip(icd10_examples, icd10_embeddings)):\n    print(f\"\\n{i+1}. {text}\")\n    print(f\"   Embedding shape: {embedding.shape}\")\n    print(f\"   Embedding stats - Mean: {embedding.mean():.4f}, Std: {embedding.std():.4f}, Min: {embedding.min():.4f}, Max: {embedding.max():.4f}\")\n    print(f\"   First 10 values: {embedding[:10]}\")",
   "metadata": {},
   "execution_count": null,
   "outputs": []
  },
  {
   "cell_type": "code",
   "source": "import tempfile\nimport os\n\n# Save model and tokenizer to temporary directory for MLflow artifact logging\nwith tempfile.TemporaryDirectory() as tmp_dir:\n    model_save_path = os.path.join(tmp_dir, \"clinicalbert\")\n    \n    # Save model and tokenizer\n    model.save_pretrained(model_save_path)\n    tokenizer.save_pretrained(model_save_path)\n    \n    # Log model with MLflow\n    with mlflow.start_run() as run:\n        model_info = mlflow.pyfunc.log_model(\n            artifact_path=\"clinicalbert_embeddings\",\n            python_model=ClinicalBERTEmbeddings(),\n            artifacts={\"model_path\": model_save_path},\n            input_example=input_example,\n            signature=signature,\n            registered_model_name=registered_model_name,\n            pip_requirements=[\n                \"transformers\",\n                \"torch\",\n                \"numpy\"\n            ]\n        )\n\nmodel_uri = model_info.model_uri\nregistered_model_version = model_info.registered_model_version\n\nprint(f\"Model URI: {model_uri}\")\nprint(f\"Registered Model Version: {registered_model_version}\")\nprint(f\"Model registered in Unity Catalog as: {registered_model_name}\")",
   "metadata": {},
   "execution_count": null,
   "outputs": []
  },
  {
   "cell_type": "code",
   "execution_count": null,
   "metadata": {
    "application/vnd.databricks.v1+cell": {
     "cellMetadata": {
      "byteLimit": 2048000,
      "rowLimit": 10000
     },
     "inputWidgets": {},
     "nuid": "9078f812-d4a7-4c40-b698-13e1cf391a60",
     "showTitle": true,
     "tableResultSettingsMap": {},
     "title": "Perform inferencing using the model in UC"
    }
   },
   "outputs": [],
   "source": "# Load the model from Unity Catalog\nloaded_model = mlflow.pyfunc.load_model(f\"models:/{registered_model_name}/{registered_model_version}\")\n\n# Test with ICD10 code examples\ntest_icd10_codes = [\n    \"ICD10: E11.9 - Type 2 diabetes mellitus without complications\",\n    \"ICD10: I10 - Essential (primary) hypertension\",\n    \"ICD10: J44.1 - Chronic obstructive pulmonary disease with (acute) exacerbation\",\n    \"ICD10: I50.9 - Heart failure, unspecified\",\n    \"ICD10: N18.3 - Chronic kidney disease, stage 3 (moderate)\",\n]\n\n# Generate embeddings using loaded model\nembeddings = loaded_model.predict(test_icd10_codes)\n\nprint(f\"Generated embeddings for {len(test_icd10_codes)} ICD10 codes\")\nprint(f\"Embeddings shape: {embeddings.shape}\")\nprint(f\"Embedding dimensions per code: {embeddings.shape[1]}\")\nprint(\"\\n\" + \"=\"*80)\nprint(\"ICD10 Code Embeddings from Unity Catalog Model:\")\nprint(\"=\"*80)\n\nfor i, (code, embedding) in enumerate(zip(test_icd10_codes, embeddings)):\n    print(f\"\\n{i+1}. {code}\")\n    print(f\"   Shape: {embedding.shape}\")\n    print(f\"   Stats - Mean: {embedding.mean():.4f}, Std: {embedding.std():.4f}\")\n    print(f\"   Range: [{embedding.min():.4f}, {embedding.max():.4f}]\")\n    print(f\"   First 5 values: {embedding[:5]}\")\n\n# Display embeddings as DataFrame for better visualization\nimport pandas as pd\nembeddings_df = pd.DataFrame(\n    embeddings,\n    index=[f\"ICD10_{i+1}\" for i in range(len(test_icd10_codes))]\n)\nprint(f\"\\nEmbeddings DataFrame shape: {embeddings_df.shape}\")\nembeddings_df.head()"
  },
  {
   "cell_type": "code",
   "execution_count": 0,
   "metadata": {
    "application/vnd.databricks.v1+cell": {
     "cellMetadata": {
      "byteLimit": 2048000,
      "rowLimit": 10000
     },
     "inputWidgets": {},
     "nuid": "c2ff2d77-648b-4285-92c7-50914557a2fe",
     "showTitle": true,
     "tableResultSettingsMap": {},
     "title": "Create serving endpoint"
    }
   },
   "outputs": [],
   "source": [
    "from mlflow.deployments import get_deploy_client\n",
    "\n",
    "# Create a deployment client\n",
    "client = get_deploy_client(\"databricks\")\n",
    "\n",
    "endpoint_name = \"clinicalbert_endpoint\"\n",
    "\n",
    "endpoint = client.create_endpoint(\n",
    "    name=endpoint_name,\n",
    "    config={\n",
    "        \"served_entities\": [\n",
    "            {\n",
    "                \"entity_name\": f\"{registered_model_name}\",\n",
    "                \"entity_version\": f\"{registered_model_version}\",\n",
    "                \"workload_size\": \"Small\",\n",
    "                \"scale_to_zero_enabled\": True\n",
    "            }\n",
    "        ],\n",
    "        \"traffic_config\": {\n",
    "            \"routes\": [\n",
    "                {\n",
    "                    \"served_model_name\": f\"{uc_model_name}-{registered_model_version}\",\n",
    "                    \"traffic_percentage\": 100\n",
    "                }\n",
    "            ]\n",
    "        }\n",
    "    }\n",
    ")\n",
    "\n",
    "\n"
   ]
  },
  {
   "cell_type": "code",
   "execution_count": 0,
   "metadata": {
    "application/vnd.databricks.v1+cell": {
     "cellMetadata": {
      "byteLimit": 2048000,
      "rowLimit": 10000
     },
     "inputWidgets": {},
     "nuid": "71ccf174-f126-4bbc-a4aa-783abb9e388b",
     "showTitle": true,
     "tableResultSettingsMap": {},
     "title": "Check progress of serving endpoint creation"
    }
   },
   "outputs": [],
   "source": [
    "import time\n",
    "\n",
    "# Function to wait until the endpoint is ready\n",
    "def wait_for_endpoint_ready(client, endpoint_name, timeout=1200, interval=60):\n",
    "    start_time = time.time()\n",
    "    while time.time() - start_time < timeout:\n",
    "        endpoint_info = client.get_endpoint(endpoint_name)\n",
    "        endpoint_state = endpoint_info.get('state', 'UNKNOWN')['ready']\n",
    "        if endpoint_state == 'READY':\n",
    "            print(f\"Endpoint {endpoint_name} is ready.\")\n",
    "            return\n",
    "        elif endpoint_state == 'FAILED':\n",
    "            raise Exception(f\"Endpoint {endpoint_name} creation failed.\")\n",
    "        else:\n",
    "            print(f\"Endpoint {endpoint_name} is in state {endpoint_state}. Waiting...\")\n",
    "            time.sleep(interval)\n",
    "    raise TimeoutError(f\"Timeout while waiting for endpoint {endpoint_name} to be ready.\")\n",
    "\n",
    "# Wait for the endpoint to be ready\n",
    "wait_for_endpoint_ready(client, endpoint_name)"
   ]
  },
  {
   "cell_type": "code",
   "execution_count": null,
   "metadata": {
    "application/vnd.databricks.v1+cell": {
     "cellMetadata": {
      "byteLimit": 2048000,
      "implicitDf": true,
      "rowLimit": 10000
     },
     "inputWidgets": {},
     "nuid": "8ec185b3-eeac-4f7a-9f0d-efafcae7d747",
     "showTitle": true,
     "tableResultSettingsMap": {},
     "title": "Invoke serving endpoint"
    }
   },
   "outputs": [],
   "source": "# Invoke the endpoint for embedding generation\nresponse = client.predict(\n    endpoint=endpoint_name,\n    inputs={\"inputs\": [\n        \"ICD10: E11.9 - Type 2 diabetes mellitus without complications\",\n        \"ICD10: I10 - Essential (primary) hypertension\",\n        \"ICD10: J44.1 - Chronic obstructive pulmonary disease with (acute) exacerbation\",\n        \"ICD10: I50.9 - Heart failure, unspecified\",\n        \"ICD10: N18.3 - Chronic kidney disease, stage 3 (moderate)\",\n        \"ICD10: J45.909 - Unspecified asthma, uncomplicated\",\n        \"ICD10: I21.9 - Acute myocardial infarction, unspecified\"\n    ]}\n)\n\n# Process and display embeddings from endpoint\nimport numpy as np\nembeddings_from_endpoint = np.array(response['predictions'])\n\nprint(f\"Received embeddings from serving endpoint\")\nprint(f\"Embeddings shape: {embeddings_from_endpoint.shape}\")\nprint(f\"Embedding dimensions: {embeddings_from_endpoint.shape[1]}\")\nprint(\"\\n\" + \"=\"*80)\nprint(\"Serving Endpoint Response - ICD10 Embeddings:\")\nprint(\"=\"*80)\n\nfor i, embedding in enumerate(embeddings_from_endpoint):\n    print(f\"\\nICD10 Code {i+1}:\")\n    print(f\"   Embedding shape: {embedding.shape}\")\n    print(f\"   Stats - Mean: {embedding.mean():.4f}, Std: {embedding.std():.4f}\")\n    print(f\"   Range: [{embedding.min():.4f}, {embedding.max():.4f}]\")"
  }
 ],
 "metadata": {
  "application/vnd.databricks.v1+notebook": {
   "computePreferences": null,
   "dashboards": [],
   "environmentMetadata": {
    "base_environment": "",
    "environment_version": "1"
   },
   "inputWidgetPreferences": null,
   "language": "python",
   "notebookMetadata": {
    "mostRecentlyExecutedCommandWithImplicitDF": {
     "commandId": -1,
     "dataframes": [
      "_sqldf"
     ]
    },
    "pythonIndentUnit": 2
   },
   "notebookName": "hf-transformers-clinicalbert",
   "widgets": {}
  },
  "language_info": {
   "name": "python"
  }
 },
 "nbformat": 4,
 "nbformat_minor": 0
}