{
 "cells": [
  {
   "cell_type": "markdown",
   "metadata": {
    "application/vnd.databricks.v1+cell": {
     "cellMetadata": {},
     "inputWidgets": {},
     "nuid": "1148ad31-2b52-4cb8-ae13-8cc0f3a44147",
     "showTitle": false,
     "tableResultSettingsMap": {},
     "title": ""
    }
   },
   "source": [
    "\n",
    "## Execute SQL Server Remote Procedure\n",
    "\n",
    "Notebook has a few pre-requisites:\n",
    "\n",
    "1. Cluster must have the following installed: `com.azure:azure-core:1.44.1` and `com.azure:azure-identity:1.10.0` under Cluster Configuration -> Libraries -> Maven (Search)\n",
    "2. App Registration with Client Secret created\n",
    "3. Service Principal User created and given access within Azure SQL DB:\n",
    "    ```sql\n",
    "    USE XXXX-1;\n",
    "\n",
    "    CREATE USER [marcin-dev-pbi] \n",
    "        FROM EXTERNAL PROVIDER;\n",
    "\n",
    "    ALTER ROLE db_owner --or any role that applies to execute SP\n",
    "        ADD MEMBER [marcin-dev-pbi];\n",
    "    GRANT EXECUTE  \n",
    "        ON SCHEMA::dbo  \n",
    "        TO [marcin-dev-pbi];\n",
    "\n",
    "    -- my test procedure, feel free to use yours.\n",
    "    CREATE PROCEDURE dbo.usp_HelloSP\n",
    "    AS\n",
    "    BEGIN\n",
    "        SELECT 'Hello from service principal!' AS Message;\n",
    "    END;\n",
    "\n",
    "    EXEC dbo.usp_HelloSP;\n",
    "    ```\n",
    "4. Credential created using Unity Catalog to pull from with Azure Databricks Connector."
   ]
  },
  {
   "cell_type": "code",
   "execution_count": 0,
   "metadata": {
    "application/vnd.databricks.v1+cell": {
     "cellMetadata": {
      "byteLimit": 2048000,
      "rowLimit": 10000
     },
     "inputWidgets": {},
     "nuid": "218e5e38-3a76-4e5f-ba6a-d4d11d0afa51",
     "showTitle": false,
     "tableResultSettingsMap": {},
     "title": ""
    }
   },
   "outputs": [
    {
     "output_type": "display_data",
     "data": {
      "text/html": [
       "<style scoped>\n",
       "  .ansiout {\n",
       "    display: block;\n",
       "    unicode-bidi: embed;\n",
       "    white-space: pre-wrap;\n",
       "    word-wrap: break-word;\n",
       "    word-break: break-all;\n",
       "    font-family: \"Menlo\", \"Monaco\", \"Consolas\", \"Ubuntu Mono\", \"Source Code Pro\", monospace;\n",
       "    font-size: 13px;\n",
       "    color: #555;\n",
       "    margin-left: 4px;\n",
       "    line-height: 19px;\n",
       "  }\n",
       "</style>\n",
       "<div class=\"ansiout\">import java.sql.DriverManager\n",
       "import com.azure.identity.ClientSecretCredentialBuilder\n",
       "import com.azure.core.credential.{TokenCredential, TokenRequestContext}\n",
       "import com.databricks.dbutils_v1.DBUtilsHolder.dbutils\n",
       "import java.sql.{DriverManager, ResultSet, CallableStatement}\n",
       "spScope: String = &quot;&quot;\n",
       "clientId: String = \n",
       "clientSecret: String = \n",
       "tenantId: String = \n",
       "serverName: String = \n",
       "databaseName: String = \n",
       "</div>"
      ]
     },
     "metadata": {
      "application/vnd.databricks.v1+output": {
       "addedWidgets": {
        "clientId": {
         "defaultValue": "",
         "label": "Client ID",
         "name": "clientId",
         "options": {
          "autoCreated": null,
          "validationRegex": null,
          "widgetType": "text"
         },
         "widgetType": "text"
        },
        "clientSecret": {
         "defaultValue": "",
         "label": "Client Secret",
         "name": "clientSecret",
         "options": {
          "autoCreated": null,
          "validationRegex": null,
          "widgetType": "text"
         },
         "widgetType": "text"
        },
        "databaseName": {
         "defaultValue": "",
         "label": "Tenant ID",
         "name": "databaseName",
         "options": {
          "autoCreated": null,
          "validationRegex": null,
          "widgetType": "text"
         },
         "widgetType": "text"
        },
        "serverName": {
         "defaultValue": ".database.windows.net",
         "label": "Client Secret",
         "name": "serverName",
         "options": {
          "autoCreated": null,
          "validationRegex": null,
          "widgetType": "text"
         },
         "widgetType": "text"
        },
        "spScope": {
         "defaultValue": "",
         "label": "UC Credential",
         "name": "spScope",
         "options": {
          "autoCreated": null,
          "validationRegex": null,
          "widgetType": "text"
         },
         "widgetType": "text"
        },
        "tenantId": {
         "defaultValue": "",
         "label": "Tenant ID",
         "name": "tenantId",
         "options": {
          "autoCreated": null,
          "validationRegex": null,
          "widgetType": "text"
         },
         "widgetType": "text"
        }
       },
       "arguments": {
        "clientId": "",
        "clientSecret": "",
        "databaseName": "XXXX-1",
        "serverName": "XXXX.database.windows.net",
        "spScope": "",
        "tenantId": ""
       },
       "data": "<div class=\"ansiout\">import java.sql.DriverManager\nimport com.azure.identity.ClientSecretCredentialBuilder\nimport com.azure.core.credential.{TokenCredential, TokenRequestContext}\nimport com.databricks.dbutils_v1.DBUtilsHolder.dbutils\nimport java.sql.{DriverManager, ResultSet, CallableStatement}\nspScope: String = &quot;&quot;\nclientId: String = \nclientSecret: String = \ntenantId: String = \nserverName: String = \ndatabaseName: String = \n</div>",
       "datasetInfos": [],
       "metadata": {},
       "removedWidgets": [],
       "type": "html"
      }
     }
    }
   ],
   "source": [
    "%scala\n",
    "import java.sql.DriverManager\n",
    "import com.azure.identity.ClientSecretCredentialBuilder\n",
    "import com.azure.core.credential.{TokenCredential, TokenRequestContext}\n",
    "import com.databricks.dbutils_v1.DBUtilsHolder.dbutils\n",
    "import java.sql.{DriverManager, ResultSet, CallableStatement}\n",
    "\n",
    "// dbutils.widgets.removeAll()\n",
    "\n",
    "// 2) Create three text widgets with optional defaults\n",
    "dbutils.widgets.text(\"spScope\",     \"\", \"UC Credential\")\n",
    "dbutils.widgets.text(\"clientId\",     \"\", \"Client ID\")\n",
    "dbutils.widgets.text(\"clientSecret\", \"\",                         \"Client Secret\")\n",
    "dbutils.widgets.text(\"tenantId\",     \"\", \"Tenant ID\")\n",
    "dbutils.widgets.text(\"serverName\", \"\",                         \"Client Secret\")\n",
    "dbutils.widgets.text(\"databaseName\",     \"XXXX-1\", \"Tenant ID\")\n",
    "\n",
    "// 3) Read them back into your vals\n",
    "val spScope     = dbutils.widgets.get(\"spScope\")\n",
    "val clientId     = dbutils.widgets.get(\"clientId\")\n",
    "val clientSecret = dbutils.widgets.get(\"clientSecret\")\n",
    "val tenantId     = dbutils.widgets.get(\"tenantId\")\n",
    "val serverName = dbutils.widgets.get(\"serverName\")\n",
    "val databaseName     = dbutils.widgets.get(\"databaseName\")"
   ]
  },
  {
   "cell_type": "code",
   "execution_count": 0,
   "metadata": {
    "application/vnd.databricks.v1+cell": {
     "cellMetadata": {
      "byteLimit": 2048000,
      "rowLimit": 10000
     },
     "inputWidgets": {},
     "nuid": "bfc1216b-80c8-45e4-a1d7-24d3d417b5ce",
     "showTitle": false,
     "tableResultSettingsMap": {},
     "title": ""
    }
   },
   "outputs": [
    {
     "output_type": "display_data",
     "data": {
      "text/html": [
       "<style scoped>\n",
       "  .ansiout {\n",
       "    display: block;\n",
       "    unicode-bidi: embed;\n",
       "    white-space: pre-wrap;\n",
       "    word-wrap: break-word;\n",
       "    word-break: break-all;\n",
       "    font-family: \"Menlo\", \"Monaco\", \"Consolas\", \"Ubuntu Mono\", \"Source Code Pro\", monospace;\n",
       "    font-size: 13px;\n",
       "    color: #555;\n",
       "    margin-left: 4px;\n",
       "    line-height: 19px;\n",
       "  }\n",
       "</style>\n",
       "<div class=\"ansiout\">✅  ClientSecretCredential succeeded\n",
       "Got AAD token: \n",
       "accessToken: String = \n",
       "</div>"
      ]
     },
     "metadata": {
      "application/vnd.databricks.v1+output": {
       "addedWidgets": {},
       "arguments": {},
       "data": "<div class=\"ansiout\">✅  ClientSecretCredential succeeded\nGot AAD token: \naccessToken: String = ...\n</div>",
       "datasetInfos": [],
       "metadata": {},
       "removedWidgets": [],
       "type": "html"
      }
     }
    }
   ],
   "source": [
    "%scala\n",
    "val accessToken: String = try {\n",
    "  // getServiceCredentialsProvider returns Object, so cast it\n",
    "  val raw = dbutils.credentials.getServiceCredentialsProvider(\"my-sp-scope\")\n",
    "  val provider = raw.asInstanceOf[TokenCredential]  \n",
    "  // build a request context and block for the token\n",
    "  val req = new TokenRequestContext().addScopes(scope)\n",
    "  val token = provider.getToken(req).block().getToken\n",
    "  println(\"✅  ServiceCredentialProvider succeeded\")\n",
    "  token\n",
    "} catch {\n",
    "  case _: Throwable =>\n",
    "    // fallback: hard-coded SP via Azure Identity SDK\n",
    "    val cred = new ClientSecretCredentialBuilder()\n",
    "      .clientId(clientId)\n",
    "      .clientSecret(clientSecret)\n",
    "      .tenantId(tenantId)\n",
    "      .build()\n",
    "    val req = new TokenRequestContext().addScopes(scope)\n",
    "    val token = cred.getToken(req).block().getToken\n",
    "    println(\"✅  ClientSecretCredential succeeded\")\n",
    "    token\n",
    "}\n",
    "\n",
    "// 3) Use it however you like\n",
    "println(s\"Got AAD token: ${accessToken.take(16)}…\")\n",
    "()"
   ]
  },
  {
   "cell_type": "code",
   "execution_count": 0,
   "metadata": {
    "application/vnd.databricks.v1+cell": {
     "cellMetadata": {
      "byteLimit": 2048000,
      "rowLimit": 10000
     },
     "inputWidgets": {},
     "nuid": "9a7e9155-28dd-4393-a054-23286bffad38",
     "showTitle": false,
     "tableResultSettingsMap": {},
     "title": ""
    }
   },
   "outputs": [
    {
     "output_type": "display_data",
     "data": {
      "text/html": [
       "<style scoped>\n",
       "  .ansiout {\n",
       "    display: block;\n",
       "    unicode-bidi: embed;\n",
       "    white-space: pre-wrap;\n",
       "    word-wrap: break-word;\n",
       "    word-break: break-all;\n",
       "    font-family: \"Menlo\", \"Monaco\", \"Consolas\", \"Ubuntu Mono\", \"Source Code Pro\", monospace;\n",
       "    font-size: 13px;\n",
       "    color: #555;\n",
       "    margin-left: 4px;\n",
       "    line-height: 19px;\n",
       "  }\n",
       "</style>\n",
       "<div class=\"ansiout\">import java.util.Properties\n",
       "props: java.util.Properties = {encrypt=true, loginTimeout=30, accessToken=..-, hostNameInCertificate=*.database.windows.net}\n",
       "jdbcUrl: String = jdbc:sqlserver://XXXX.database.windows.net:1433;database=XXXX-1\n",
       "</div>"
      ]
     },
     "metadata": {
      "application/vnd.databricks.v1+output": {
       "addedWidgets": {},
       "arguments": {},
       "data": "<div class=\"ansiout\">import java.util.Properties\nprops: java.util.Properties = {encrypt=true, loginTimeout=30, accessToken=, hostNameInCertificate=*.database.windows.net}\njdbcUrl: String = jdbc:sqlserver://XXX.database.windows.net:1433;database=XXXX-1\n</div>",
       "datasetInfos": [],
       "metadata": {},
       "removedWidgets": [],
       "type": "html"
      }
     }
    }
   ],
   "source": [
    "%scala\n",
    "import java.util.Properties\n",
    "val props = new Properties()\n",
    "props.put(\"accessToken\", accessToken)\n",
    "props.put(\"encrypt\", \"true\")\n",
    "props.put(\"hostNameInCertificate\", \"*.database.windows.net\")\n",
    "props.put(\"loginTimeout\", \"30\")\n",
    "\n",
    "val jdbcUrl = s\"jdbc:sqlserver://$serverName:1433;database=$databaseName\""
   ]
  },
  {
   "cell_type": "code",
   "execution_count": 0,
   "metadata": {
    "application/vnd.databricks.v1+cell": {
     "cellMetadata": {
      "byteLimit": 2048000,
      "rowLimit": 10000
     },
     "inputWidgets": {},
     "nuid": "ff2ed679-faac-4f4a-ad83-4a4516bd9b06",
     "showTitle": false,
     "tableResultSettingsMap": {},
     "title": ""
    }
   },
   "outputs": [
    {
     "output_type": "display_data",
     "data": {
      "text/html": [
       "<style scoped>\n",
       "  .ansiout {\n",
       "    display: block;\n",
       "    unicode-bidi: embed;\n",
       "    white-space: pre-wrap;\n",
       "    word-wrap: break-word;\n",
       "    word-break: break-all;\n",
       "    font-family: \"Menlo\", \"Monaco\", \"Consolas\", \"Ubuntu Mono\", \"Source Code Pro\", monospace;\n",
       "    font-size: 13px;\n",
       "    color: #555;\n",
       "    margin-left: 4px;\n",
       "    line-height: 19px;\n",
       "  }\n",
       "</style>\n",
       "<div class=\"ansiout\">Got row: Hello from service principal!\n",
       "query: String = {call dbo.usp_HelloSP()}\n",
       "statement: java.sql.CallableStatement = SQLServerCallableStatement:6\n",
       "rs: java.sql.ResultSet = SQLServerResultSet:7\n",
       "</div>"
      ]
     },
     "metadata": {
      "application/vnd.databricks.v1+output": {
       "addedWidgets": {},
       "arguments": {},
       "data": "<div class=\"ansiout\">Got row: Hello from service principal!\nquery: String = {call dbo.usp_HelloSP()}\nstatement: java.sql.CallableStatement = SQLServerCallableStatement:6\nrs: java.sql.ResultSet = SQLServerResultSet:7\n</div>",
       "datasetInfos": [],
       "metadata": {},
       "removedWidgets": [],
       "type": "html"
      }
     }
    }
   ],
   "source": [
    "%scala\n",
    "val query = \"{call dbo.usp_HelloSP()}\";  \n",
    "val statement = DriverManager.getConnection(jdbcUrl, props).prepareCall(query);  \n",
    "\n",
    "val rs: ResultSet = statement.executeQuery()\n",
    "\n",
    "// 4) iterate\n",
    "while (rs.next()) {\n",
    "  // replace \"ColName\" with your actual column\n",
    "  val col1 = rs.getString(\"Message\")\n",
    "  println(s\"Got row: $col1\")\n",
    "}\n",
    "\n",
    "statement.execute();\n",
    "statement.close();"
   ]
  }
 ],
 "metadata": {
  "application/vnd.databricks.v1+notebook": {
   "computePreferences": null,
   "dashboards": [],
   "environmentMetadata": {
    "base_environment": "",
    "environment_version": "2"
   },
   "inputWidgetPreferences": null,
   "language": "python",
   "notebookMetadata": {
    "mostRecentlyExecutedCommandWithImplicitDF": {
     "commandId": -1,
     "dataframes": [
      "_sqldf"
     ]
    },
    "pythonIndentUnit": 2
   },
   "notebookName": "sql remote proc execute",
   "widgets": {
    "clientId": {
     "currentValue": "d14d21c6-405c-48b1-b005-c9d4a73479ad",
     "nuid": "a5d5c315-0677-422b-9cf9-341402e958d6",
     "typedWidgetInfo": {
      "autoCreated": false,
      "defaultValue": "d14d21c6-405c-48b1-b005-c9d4a73479ad",
      "label": "Client ID",
      "name": "clientId",
      "options": {
       "widgetDisplayType": "Text",
       "validationRegex": null
      },
      "parameterDataType": "String"
     },
     "widgetInfo": {
      "widgetType": "text",
      "defaultValue": "d14d21c6-405c-48b1-b005-c9d4a73479ad",
      "label": "Client ID",
      "name": "clientId",
      "options": {
       "widgetType": "text",
       "autoCreated": null,
       "validationRegex": null
      }
     }
    },
    "clientSecret": {
     "currentValue": "",
     "nuid": "aa9bcebe-f8ab-42ac-86ca-7045286c41c4",
     "typedWidgetInfo": {
      "autoCreated": false,
      "defaultValue": "",
      "label": "Client Secret",
      "name": "clientSecret",
      "options": {
       "widgetDisplayType": "Text",
       "validationRegex": null
      },
      "parameterDataType": "String"
     },
     "widgetInfo": {
      "widgetType": "text",
      "defaultValue": "",
      "label": "Client Secret",
      "name": "clientSecret",
      "options": {
       "widgetType": "text",
       "autoCreated": null,
       "validationRegex": null
      }
     }
    },
    "databaseName": {
     "currentValue": "-1",
     "nuid": "a24ac6c0-8a8c-4f92-8bc2-7931050e5ed8",
     "typedWidgetInfo": {
      "autoCreated": false,
      "defaultValue": "-1",
      "label": "Tenant ID",
      "name": "databaseName",
      "options": {
       "widgetDisplayType": "Text",
       "validationRegex": null
      },
      "parameterDataType": "String"
     },
     "widgetInfo": {
      "widgetType": "text",
      "defaultValue": "-1",
      "label": "Tenant ID",
      "name": "databaseName",
      "options": {
       "widgetType": "text",
       "autoCreated": null,
       "validationRegex": null
      }
     }
    },
    "serverName": {
     "currentValue": "XXXX.database.windows.net",
     "nuid": "d0970b8d-0d4e-4289-93e9-2c1fcbbc3632",
     "typedWidgetInfo": {
      "autoCreated": false,
      "defaultValue": "XXXX.database.windows.net",
      "label": "Client Secret",
      "name": "serverName",
      "options": {
       "widgetDisplayType": "Text",
       "validationRegex": null
      },
      "parameterDataType": "String"
     },
     "widgetInfo": {
      "widgetType": "text",
      "defaultValue": "XXXX.database.windows.net",
      "label": "Client Secret",
      "name": "serverName",
      "options": {
       "widgetType": "text",
       "autoCreated": null,
       "validationRegex": null
      }
     }
    },
    "spScope": {
     "currentValue": "",
     "nuid": "5274e392-e96a-4325-8e65-8dbe8076b59e",
     "typedWidgetInfo": {
      "autoCreated": false,
      "defaultValue": "",
      "label": "UC Credential",
      "name": "spScope",
      "options": {
       "widgetDisplayType": "Text",
       "validationRegex": null
      },
      "parameterDataType": "String"
     },
     "widgetInfo": {
      "widgetType": "text",
      "defaultValue": "",
      "label": "UC Credential",
      "name": "spScope",
      "options": {
       "widgetType": "text",
       "autoCreated": null,
       "validationRegex": null
      }
     }
    },
    "tenantId": {
     "currentValue": "bf465dc7-3bc8-4944-b018-092572b5c20d",
     "nuid": "9163bfc7-3ff5-449e-8e90-70b80ab78529",
     "typedWidgetInfo": {
      "autoCreated": false,
      "defaultValue": "",
      "label": "Tenant ID",
      "name": "tenantId",
      "options": {
       "widgetDisplayType": "Text",
       "validationRegex": null
      },
      "parameterDataType": "String"
     },
     "widgetInfo": {
      "widgetType": "text",
      "defaultValue": "",
      "label": "Tenant ID",
      "name": "tenantId",
      "options": {
       "widgetType": "text",
       "autoCreated": null,
       "validationRegex": null
      }
     }
    }
   }
  },
  "language_info": {
   "name": "python"
  }
 },
 "nbformat": 4,
 "nbformat_minor": 0
}
